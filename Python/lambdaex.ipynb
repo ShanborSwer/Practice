{
 "cells": [
  {
   "cell_type": "code",
   "execution_count": 1,
   "id": "4b786626-fc46-4ffe-ae15-fb5b99b0de17",
   "metadata": {},
   "outputs": [
    {
     "name": "stdout",
     "output_type": "stream",
     "text": [
      "30\n"
     ]
    }
   ],
   "source": [
    "def add(a,b):\n",
    "    return a+b\n",
    "\n",
    "r1 = add(10,20)\n",
    "print(r1)"
   ]
  },
  {
   "cell_type": "code",
   "execution_count": 2,
   "id": "3d75e00e-a0a1-4a74-904e-87ee57a71a45",
   "metadata": {},
   "outputs": [
    {
     "name": "stdout",
     "output_type": "stream",
     "text": [
      "30\n",
      "50\n"
     ]
    }
   ],
   "source": [
    "add = lambda a,b:a+b\n",
    "\n",
    "r1 = add(10,20)\n",
    "print(r1)\n",
    "\n",
    "r2 = add(20,30)\n",
    "print(r2)"
   ]
  },
  {
   "cell_type": "code",
   "execution_count": 3,
   "id": "ffec0b65-8c61-4822-987c-6e9fff325a96",
   "metadata": {},
   "outputs": [
    {
     "name": "stdout",
     "output_type": "stream",
     "text": [
      "26\n"
     ]
    }
   ],
   "source": [
    "def cal_age(year):\n",
    "    return 2024-year\n",
    "\n",
    "age = cal_age(1998)\n",
    "print(age)\n"
   ]
  },
  {
   "cell_type": "code",
   "execution_count": 5,
   "id": "061256b4-cd54-448c-93de-d89026d2cd79",
   "metadata": {},
   "outputs": [
    {
     "name": "stdout",
     "output_type": "stream",
     "text": [
      "26\n",
      "67\n"
     ]
    }
   ],
   "source": [
    "age = lambda year:2024-year\n",
    "\n",
    "print(age(1998))\n",
    "print(age(1957))"
   ]
  },
  {
   "cell_type": "code",
   "execution_count": 6,
   "id": "230f4747-efb7-4ff3-861b-0e75b762fd25",
   "metadata": {},
   "outputs": [
    {
     "name": "stdout",
     "output_type": "stream",
     "text": [
      "<map object at 0x000001883EDCE530>\n",
      "[35, 36, 37, 38, 39]\n"
     ]
    }
   ],
   "source": [
    "def add_one(mark):\n",
    "    return mark+1\n",
    "\n",
    "map_result = map(add_one,[34,35,36,37,38])\n",
    "\n",
    "print(map_result)\n",
    "print(list(map_result))"
   ]
  },
  {
   "cell_type": "code",
   "execution_count": 8,
   "id": "32af73e7-79c8-4d51-bc65-156b2041c4c8",
   "metadata": {},
   "outputs": [
    {
     "ename": "SyntaxError",
     "evalue": "positional argument follows keyword argument (287089057.py, line 1)",
     "output_type": "error",
     "traceback": [
      "\u001b[1;36m  Cell \u001b[1;32mIn[8], line 1\u001b[1;36m\u001b[0m\n\u001b[1;33m    print(list(map(add_one = lambda mark:mark+1,[45,46,47,48,49])))\u001b[0m\n\u001b[1;37m                                                                ^\u001b[0m\n\u001b[1;31mSyntaxError\u001b[0m\u001b[1;31m:\u001b[0m positional argument follows keyword argument\n"
     ]
    }
   ],
   "source": [
    "print(list(map(add_one = lambda mark:mark+1,[45,46,47,48,49])))"
   ]
  },
  {
   "cell_type": "code",
   "execution_count": null,
   "id": "2ba4190e-bf31-453b-b1d7-276e61ed321a",
   "metadata": {},
   "outputs": [],
   "source": []
  }
 ],
 "metadata": {
  "kernelspec": {
   "display_name": "Python 3 (ipykernel)",
   "language": "python",
   "name": "python3"
  },
  "language_info": {
   "codemirror_mode": {
    "name": "ipython",
    "version": 3
   },
   "file_extension": ".py",
   "mimetype": "text/x-python",
   "name": "python",
   "nbconvert_exporter": "python",
   "pygments_lexer": "ipython3",
   "version": "3.12.3"
  }
 },
 "nbformat": 4,
 "nbformat_minor": 5
}
