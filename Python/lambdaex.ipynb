{
 "cells": [
  {
   "cell_type": "code",
   "execution_count": 1,
   "id": "4b786626-fc46-4ffe-ae15-fb5b99b0de17",
   "metadata": {},
   "outputs": [
    {
     "name": "stdout",
     "output_type": "stream",
     "text": [
      "30\n"
     ]
    }
   ],
   "source": [
    "def add(a,b):\n",
    "    return a+b\n",
    "\n",
    "r1 = add(10,20)\n",
    "print(r1)"
   ]
  },
  {
   "cell_type": "code",
   "execution_count": 2,
   "id": "3d75e00e-a0a1-4a74-904e-87ee57a71a45",
   "metadata": {},
   "outputs": [
    {
     "name": "stdout",
     "output_type": "stream",
     "text": [
      "30\n",
      "50\n"
     ]
    }
   ],
   "source": [
    "add = lambda a,b:a+b\n",
    "\n",
    "r1 = add(10,20)\n",
    "print(r1)\n",
    "\n",
    "r2 = add(20,30)\n",
    "print(r2)"
   ]
  },
  {
   "cell_type": "code",
   "execution_count": 3,
   "id": "ffec0b65-8c61-4822-987c-6e9fff325a96",
   "metadata": {},
   "outputs": [
    {
     "name": "stdout",
     "output_type": "stream",
     "text": [
      "26\n"
     ]
    }
   ],
   "source": [
    "def cal_age(year):\n",
    "    return 2024-year\n",
    "\n",
    "age = cal_age(1998)\n",
    "print(age)\n"
   ]
  },
  {
   "cell_type": "code",
   "execution_count": 5,
   "id": "061256b4-cd54-448c-93de-d89026d2cd79",
   "metadata": {},
   "outputs": [
    {
     "name": "stdout",
     "output_type": "stream",
     "text": [
      "26\n",
      "67\n"
     ]
    }
   ],
   "source": [
    "age = lambda year:2024-year\n",
    "\n",
    "print(age(1998))\n",
    "print(age(1957))"
   ]
  },
  {
   "cell_type": "code",
   "execution_count": 6,
   "id": "230f4747-efb7-4ff3-861b-0e75b762fd25",
   "metadata": {},
   "outputs": [
    {
     "name": "stdout",
     "output_type": "stream",
     "text": [
      "<map object at 0x000001883EDCE530>\n",
      "[35, 36, 37, 38, 39]\n"
     ]
    }
   ],
   "source": [
    "def add_one(mark):\n",
    "    return mark+1\n",
    "\n",
    "map_result = map(add_one,[34,35,36,37,38])\n",
    "\n",
    "print(map_result)\n",
    "print(list(map_result))"
   ]
  },
  {
   "cell_type": "code",
   "execution_count": 9,
   "id": "32af73e7-79c8-4d51-bc65-156b2041c4c8",
   "metadata": {},
   "outputs": [
    {
     "name": "stdout",
     "output_type": "stream",
     "text": [
      "[46, 47, 48, 49, 50]\n"
     ]
    }
   ],
   "source": [
    "print(list(map(lambda mark:mark+1,[45,46,47,48,49])))"
   ]
  },
  {
   "cell_type": "code",
   "execution_count": 10,
   "id": "2ba4190e-bf31-453b-b1d7-276e61ed321a",
   "metadata": {},
   "outputs": [
    {
     "name": "stdout",
     "output_type": "stream",
     "text": [
      "SHANBOR\n"
     ]
    }
   ],
   "source": [
    "def uppercase(name):\n",
    "    return name.upper()\n",
    "\n",
    "name = uppercase(\"shanbor\")\n",
    "print(name)"
   ]
  },
  {
   "cell_type": "code",
   "execution_count": 14,
   "id": "2dcb7bc0-05cd-4e3d-afdc-8b2760997b3e",
   "metadata": {},
   "outputs": [
    {
     "name": "stdout",
     "output_type": "stream",
     "text": [
      "['shanbor', 'sunil', 'rajesh']\n",
      "['SHANBOR', 'SUNIL', 'RAJESH']\n"
     ]
    }
   ],
   "source": [
    "enames =['shanbor','sunil','rajesh']\n",
    "\n",
    "def uppercase(name):\n",
    "    return name.upper()\n",
    "\n",
    "map_ref = map(uppercase,enames)\n",
    "new_enames = list(map_ref)\n",
    "print(enames)\n",
    "print(new_enames)"
   ]
  },
  {
   "cell_type": "code",
   "execution_count": 17,
   "id": "8264e547-e2be-4835-bbca-1b81c3752e37",
   "metadata": {},
   "outputs": [
    {
     "name": "stdout",
     "output_type": "stream",
     "text": [
      "['shanbor', 'sunil', 'rajesh']\n",
      "['SHANBOR', 'SUNIL', 'RAJESH']\n"
     ]
    }
   ],
   "source": [
    "enames = ['shanbor','sunil','rajesh']\n",
    "\n",
    "new_enames = list(map(lambda name:name.upper(),enames))\n",
    "\n",
    "print(enames)\n",
    "print(new_enames)"
   ]
  },
  {
   "cell_type": "markdown",
   "id": "e2fe6edb-0776-4aef-8898-5637c93866ea",
   "metadata": {},
   "source": []
  },
  {
   "cell_type": "code",
   "execution_count": 20,
   "id": "36c924fb-b26d-4106-9313-fa76745c5915",
   "metadata": {},
   "outputs": [
    {
     "name": "stdout",
     "output_type": "stream",
     "text": [
      "[10, 20, 30, 40, 50]\n",
      "[20, 40, 60, 80, 100]\n"
     ]
    }
   ],
   "source": [
    "numbers = [10,20,30,40,50]\n",
    "\n",
    "def double(num):\n",
    "    return num*2\n",
    "\n",
    "new_numbers = list(map(double,numbers))\n",
    "\n",
    "print(numbers)\n",
    "print(new_numbers)\n",
    "\n"
   ]
  },
  {
   "cell_type": "code",
   "execution_count": 21,
   "id": "ad0b952a-0a4f-4ecb-bde0-b593d4d6cd9a",
   "metadata": {},
   "outputs": [
    {
     "name": "stdout",
     "output_type": "stream",
     "text": [
      "[20, 40, 60, 80, 100]\n"
     ]
    }
   ],
   "source": [
    "numbers = [10,20,30,40,50]\n",
    "\n",
    "new_num = list(map(lambda num:num*2,numbers))\n",
    "print(new_num)"
   ]
  },
  {
   "cell_type": "code",
   "execution_count": null,
   "id": "82649933-7ad6-4966-a19e-7a245d715306",
   "metadata": {},
   "outputs": [],
   "source": []
  }
 ],
 "metadata": {
  "kernelspec": {
   "display_name": "Python 3 (ipykernel)",
   "language": "python",
   "name": "python3"
  },
  "language_info": {
   "codemirror_mode": {
    "name": "ipython",
    "version": 3
   },
   "file_extension": ".py",
   "mimetype": "text/x-python",
   "name": "python",
   "nbconvert_exporter": "python",
   "pygments_lexer": "ipython3",
   "version": "3.12.3"
  }
 },
 "nbformat": 4,
 "nbformat_minor": 5
}
