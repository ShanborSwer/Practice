{
 "cells": [
  {
   "cell_type": "code",
   "execution_count": null,
   "id": "4b786626-fc46-4ffe-ae15-fb5b99b0de17",
   "metadata": {},
   "outputs": [],
   "source": []
  }
 ],
 "metadata": {
  "kernelspec": {
   "display_name": "",
   "name": ""
  },
  "language_info": {
   "name": ""
  }
 },
 "nbformat": 4,
 "nbformat_minor": 5
}
