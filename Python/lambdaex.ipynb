{
 "cells": [
  {
   "cell_type": "code",
   "execution_count": 1,
   "id": "4b786626-fc46-4ffe-ae15-fb5b99b0de17",
   "metadata": {},
   "outputs": [
    {
     "name": "stdout",
     "output_type": "stream",
     "text": [
      "30\n"
     ]
    }
   ],
   "source": [
    "def add(a,b):\n",
    "    return a+b\n",
    "\n",
    "r1 = add(10,20)\n",
    "print(r1)"
   ]
  },
  {
   "cell_type": "code",
   "execution_count": 2,
   "id": "3d75e00e-a0a1-4a74-904e-87ee57a71a45",
   "metadata": {},
   "outputs": [
    {
     "name": "stdout",
     "output_type": "stream",
     "text": [
      "30\n",
      "50\n"
     ]
    }
   ],
   "source": [
    "add = lambda a,b:a+b\n",
    "\n",
    "r1 = add(10,20)\n",
    "print(r1)\n",
    "\n",
    "r2 = add(20,30)\n",
    "print(r2)"
   ]
  },
  {
   "cell_type": "code",
   "execution_count": 3,
   "id": "ffec0b65-8c61-4822-987c-6e9fff325a96",
   "metadata": {},
   "outputs": [
    {
     "name": "stdout",
     "output_type": "stream",
     "text": [
      "26\n"
     ]
    }
   ],
   "source": [
    "def cal_age(year):\n",
    "    return 2024-year\n",
    "\n",
    "age = cal_age(1998)\n",
    "print(age)\n"
   ]
  },
  {
   "cell_type": "code",
   "execution_count": 5,
   "id": "061256b4-cd54-448c-93de-d89026d2cd79",
   "metadata": {},
   "outputs": [
    {
     "name": "stdout",
     "output_type": "stream",
     "text": [
      "26\n",
      "67\n"
     ]
    }
   ],
   "source": [
    "age = lambda year:2024-year\n",
    "\n",
    "print(age(1998))\n",
    "print(age(1957))"
   ]
  },
  {
   "cell_type": "code",
   "execution_count": null,
   "id": "230f4747-efb7-4ff3-861b-0e75b762fd25",
   "metadata": {},
   "outputs": [],
   "source": []
  }
 ],
 "metadata": {
  "kernelspec": {
   "display_name": "Python 3 (ipykernel)",
   "language": "python",
   "name": "python3"
  },
  "language_info": {
   "codemirror_mode": {
    "name": "ipython",
    "version": 3
   },
   "file_extension": ".py",
   "mimetype": "text/x-python",
   "name": "python",
   "nbconvert_exporter": "python",
   "pygments_lexer": "ipython3",
   "version": "3.12.3"
  }
 },
 "nbformat": 4,
 "nbformat_minor": 5
}
