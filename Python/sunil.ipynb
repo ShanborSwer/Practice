{
 "cells": [
  {
   "cell_type": "code",
   "execution_count": 1,
   "id": "41e6221b-d080-4d2b-a14f-c0fa825d65e0",
   "metadata": {},
   "outputs": [
    {
     "name": "stdout",
     "output_type": "stream",
     "text": [
      "<class 'list'>\n"
     ]
    }
   ],
   "source": [
    "l1 = []\n",
    "print(type(l1))"
   ]
  },
  {
   "cell_type": "code",
   "execution_count": 2,
   "id": "6910984f-0f34-43e9-bfa5-90e7ffd51630",
   "metadata": {},
   "outputs": [
    {
     "name": "stdout",
     "output_type": "stream",
     "text": [
      "<class 'set'>\n"
     ]
    }
   ],
   "source": [
    "d1 = {10,20,30,40,50}\n",
    "d2 = {40,50,60,70}\n",
    "print(type(d1))"
   ]
  },
  {
   "cell_type": "code",
   "execution_count": 3,
   "id": "1d8295e0-4033-42d8-8790-079417bad3bd",
   "metadata": {},
   "outputs": [
    {
     "name": "stdout",
     "output_type": "stream",
     "text": [
      "{70, 40, 10, 50, 20, 60, 30}\n"
     ]
    }
   ],
   "source": [
    "print(d1.union(d2))"
   ]
  },
  {
   "cell_type": "code",
   "execution_count": 4,
   "id": "dff5c652-3d54-4aeb-a48f-73c7a0cfa3a7",
   "metadata": {},
   "outputs": [
    {
     "name": "stdout",
     "output_type": "stream",
     "text": [
      "{10, 20, 30}\n"
     ]
    }
   ],
   "source": [
    "print(d1 - d2)"
   ]
  },
  {
   "cell_type": "code",
   "execution_count": 5,
   "id": "57eb40a3-efd0-4a3f-972c-eb1e4dd4ebc2",
   "metadata": {},
   "outputs": [
    {
     "ename": "SyntaxError",
     "evalue": "invalid syntax (4204607433.py, line 2)",
     "output_type": "error",
     "traceback": [
      "\u001b[1;36m  Cell \u001b[1;32mIn[5], line 2\u001b[1;36m\u001b[0m\n\u001b[1;33m    print(d1.[0])\u001b[0m\n\u001b[1;37m             ^\u001b[0m\n\u001b[1;31mSyntaxError\u001b[0m\u001b[1;31m:\u001b[0m invalid syntax\n"
     ]
    }
   ],
   "source": [
    "d1 = {'id':'101','name':'Shanbor','salary':45000}\n",
    "print(d1.[0])"
   ]
  },
  {
   "cell_type": "code",
   "execution_count": 11,
   "id": "ffc7c391-013b-411e-aa87-7d0b52153ad5",
   "metadata": {},
   "outputs": [
    {
     "name": "stdout",
     "output_type": "stream",
     "text": [
      "{'id': '101', 'name': 'Shanbor', 'salary': 45000}\n",
      "{'id': '101', 'name': 'Shanbor', 'salary': 45000}\n",
      "{'id': '101', 'name': 'Shanbor', 'salary': 45000}\n"
     ]
    }
   ],
   "source": [
    "d1 = {'id':'101','name':'Shanbor','salary':45000}\n",
    "values = d1\n",
    "for value in values:\n",
    "    print(values)"
   ]
  },
  {
   "cell_type": "code",
   "execution_count": null,
   "id": "76772537-e7dd-422c-a20d-cfc398784197",
   "metadata": {},
   "outputs": [],
   "source": [
    "emp : {'id':101,'name':'Shanbor','salary':45000}\n",
    "items = emp.items()\n",
    "print(items)"
   ]
  },
  {
   "cell_type": "code",
   "execution_count": null,
   "id": "e731d606-039b-4827-a4f7-b5a768e36757",
   "metadata": {},
   "outputs": [],
   "source": []
  },
  {
   "cell_type": "code",
   "execution_count": 2,
   "id": "27693df4-26fe-4f29-8c37-1206527cd83e",
   "metadata": {},
   "outputs": [
    {
     "name": "stdout",
     "output_type": "stream",
     "text": [
      "dict_items([('id', 101), ('name', 'Shanbor'), ('salary', 45000)])\n"
     ]
    }
   ],
   "source": [
    "emp = {'id':101,'name':'Shanbor','salary':45000}\n",
    "items = emp.items()\n",
    "print(items)"
   ]
  },
  {
   "cell_type": "code",
   "execution_count": null,
   "id": "6d66620e-4aec-4be0-bd11-0bbdb9e274c4",
   "metadata": {},
   "outputs": [],
   "source": []
  }
 ],
 "metadata": {
  "kernelspec": {
   "display_name": "Python 3 (ipykernel)",
   "language": "python",
   "name": "python3"
  },
  "language_info": {
   "codemirror_mode": {
    "name": "ipython",
    "version": 3
   },
   "file_extension": ".py",
   "mimetype": "text/x-python",
   "name": "python",
   "nbconvert_exporter": "python",
   "pygments_lexer": "ipython3",
   "version": "3.12.3"
  }
 },
 "nbformat": 4,
 "nbformat_minor": 5
}
